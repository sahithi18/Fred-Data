{
  "nbformat": 4,
  "nbformat_minor": 0,
  "metadata": {
    "colab": {
      "provenance": []
    },
    "kernelspec": {
      "name": "python3",
      "display_name": "Python 3"
    },
    "language_info": {
      "name": "python"
    }
  },
  "cells": [
    {
      "cell_type": "markdown",
      "source": [
        "FRED Data Series with Fedapi"
      ],
      "metadata": {
        "id": "h6Ce6R7X6ms0"
      }
    },
    {
      "cell_type": "code",
      "source": [
        "pip install fredapi"
      ],
      "metadata": {
        "colab": {
          "base_uri": "https://localhost:8080/"
        },
        "id": "30P5BSGxOGGN",
        "outputId": "842129c5-32d7-421b-8bf3-a873298f1255"
      },
      "execution_count": null,
      "outputs": [
        {
          "output_type": "stream",
          "name": "stdout",
          "text": [
            "Requirement already satisfied: fredapi in /usr/local/lib/python3.10/dist-packages (0.5.2)\n",
            "Requirement already satisfied: pandas in /usr/local/lib/python3.10/dist-packages (from fredapi) (2.0.3)\n",
            "Requirement already satisfied: python-dateutil>=2.8.2 in /usr/local/lib/python3.10/dist-packages (from pandas->fredapi) (2.8.2)\n",
            "Requirement already satisfied: pytz>=2020.1 in /usr/local/lib/python3.10/dist-packages (from pandas->fredapi) (2023.4)\n",
            "Requirement already satisfied: tzdata>=2022.1 in /usr/local/lib/python3.10/dist-packages (from pandas->fredapi) (2024.1)\n",
            "Requirement already satisfied: numpy>=1.21.0 in /usr/local/lib/python3.10/dist-packages (from pandas->fredapi) (1.25.2)\n",
            "Requirement already satisfied: six>=1.5 in /usr/local/lib/python3.10/dist-packages (from python-dateutil>=2.8.2->pandas->fredapi) (1.16.0)\n"
          ]
        }
      ]
    },
    {
      "cell_type": "code",
      "source": [
        "!pip install fredapi\n"
      ],
      "metadata": {
        "colab": {
          "base_uri": "https://localhost:8080/"
        },
        "id": "jukqYSUnOFbG",
        "outputId": "84290399-7934-4d4d-89d8-874c3cf5162c"
      },
      "execution_count": null,
      "outputs": [
        {
          "output_type": "stream",
          "name": "stdout",
          "text": [
            "Collecting fredapi\n",
            "  Downloading fredapi-0.5.2-py3-none-any.whl (11 kB)\n",
            "Requirement already satisfied: pandas in /usr/local/lib/python3.10/dist-packages (from fredapi) (2.0.3)\n",
            "Requirement already satisfied: python-dateutil>=2.8.2 in /usr/local/lib/python3.10/dist-packages (from pandas->fredapi) (2.8.2)\n",
            "Requirement already satisfied: pytz>=2020.1 in /usr/local/lib/python3.10/dist-packages (from pandas->fredapi) (2023.4)\n",
            "Requirement already satisfied: tzdata>=2022.1 in /usr/local/lib/python3.10/dist-packages (from pandas->fredapi) (2024.1)\n",
            "Requirement already satisfied: numpy>=1.21.0 in /usr/local/lib/python3.10/dist-packages (from pandas->fredapi) (1.25.2)\n",
            "Requirement already satisfied: six>=1.5 in /usr/local/lib/python3.10/dist-packages (from python-dateutil>=2.8.2->pandas->fredapi) (1.16.0)\n",
            "Installing collected packages: fredapi\n",
            "Successfully installed fredapi-0.5.2\n"
          ]
        }
      ]
    },
    {
      "cell_type": "code",
      "execution_count": null,
      "metadata": {
        "colab": {
          "base_uri": "https://localhost:8080/"
        },
        "id": "ZPRWXQ48NM9R",
        "outputId": "725d7c81-58b3-4ecb-d089-659f53383f36"
      },
      "outputs": [
        {
          "output_type": "stream",
          "name": "stdout",
          "text": [
            "Error searching for ADP Nonfarm Private Payroll Employment: Small businesses: 'NoneType' object has no attribute 'empty'\n",
            "Error searching for ADP Nonfarm Private Payroll Employment: Medium businesses: 'NoneType' object has no attribute 'empty'\n",
            "Error searching for ADP Nonfarm Private Payroll Employment: Large businesses: 'NoneType' object has no attribute 'empty'\n",
            "Error searching for ADP Nonfarm Private Payroll Employment: Healthcare: 'NoneType' object has no attribute 'empty'\n",
            "Error searching for Employment: Utilties: 'NoneType' object has no attribute 'empty'\n",
            "Error searching for Aggregate Weekly Hours: Prod & Nonsupervisory, Private Industries: 'NoneType' object has no attribute 'empty'\n",
            "Error searching for Average Weekly Hours: Prod & Nonsupervisory, Private Industries: 'NoneType' object has no attribute 'empty'\n",
            "Error searching for Average Weekly Hours: Prod & Nonsupervisory, Goods-producing industries: 'NoneType' object has no attribute 'empty'\n",
            "Error searching for Average Weekly Hours: Prod & Nonsupervisory, Manufacturing: 'NoneType' object has no attribute 'empty'\n",
            "Error searching for Average Weekly Hours: Prod & Nonsupervisory, Durable Goods Manufacturing: 'NoneType' object has no attribute 'empty'\n",
            "Error searching for Average Weekly Hours: Prod & Nonsupervisory, Nondurable Goods Manufacturing: 'NoneType' object has no attribute 'empty'\n",
            "Error searching for Average Weekly Hours: Prod & Nonsupervisory, Mining & Logging: 'NoneType' object has no attribute 'empty'\n",
            "Error searching for Average Weekly Hours: Prod & Nonsupervisory, Construction: 'NoneType' object has no attribute 'empty'\n",
            "Error searching for Average Weekly Hours: Prod & Nonsupervisory, Service-providing Industries: 'NoneType' object has no attribute 'empty'\n",
            "Error searching for Average Weekly Hours: Prod & Nonsupervisory, : Trade, Transportation & Utilities: 'NoneType' object has no attribute 'empty'\n",
            "Error searching for Average Weekly Hours: Prod & Nonsupervisory, : Wholesale Trade: 'NoneType' object has no attribute 'empty'\n",
            "Error searching for Average Weekly Hours: Prod & Nonsupervisory, : Retail Trade: 'NoneType' object has no attribute 'empty'\n",
            "Error searching for Average Weekly Hours: Prod & Nonsupervisory, : Transportation & Warehousing: 'NoneType' object has no attribute 'empty'\n",
            "Error searching for Average Weekly Hours: Prod & Nonsupervisory, : Utilties: 'NoneType' object has no attribute 'empty'\n",
            "Error searching for Average Weekly Hours: Prod & Nonsupervisory, : Information Services: 'NoneType' object has no attribute 'empty'\n",
            "Error searching for Average Weekly Hours: Prod & Nonsupervisory, : Financial Activities: 'NoneType' object has no attribute 'empty'\n",
            "Error searching for Average Weekly Hours: Prod & Nonsupervisory, : Professional & Business Services: 'NoneType' object has no attribute 'empty'\n",
            "Error searching for Average Weekly Hours: Prod & Nonsupervisory, : Education & Health Services : 'NoneType' object has no attribute 'empty'\n",
            "Error searching for Average Weekly Hours: Prod & Nonsupervisory, : Leisure & Hospitality : 'NoneType' object has no attribute 'empty'\n",
            "Error searching for Average Weekly Hours: Prod & Nonsupervisory, : Other Services : 'NoneType' object has no attribute 'empty'\n",
            "Error searching for Average Weekly Hours: Prod & Nonsupervisory, Manufacturing Overtime: 'NoneType' object has no attribute 'empty'\n",
            "Error searching for Average Weekly Hours: Prod & Nonsupervisory, Durable Goods Manufacturing Overtime: 'NoneType' object has no attribute 'empty'\n",
            "Error searching for Average Weekly Hours: Prod & Nonsupervisory, Nondurable Goods Manufacturing Overtime: 'NoneType' object has no attribute 'empty'\n",
            "Error searching for Average Hourly Earnings: Prod & Nonsupervisory, Private Industries: 'NoneType' object has no attribute 'empty'\n",
            "Error searching for Average Hourly Earnings: Prod & Nonsupervisory, Goods-producing industries: 'NoneType' object has no attribute 'empty'\n",
            "Error searching for Average Hourly Earnings: Prod & Nonsupervisory, Manufacturing: 'NoneType' object has no attribute 'empty'\n",
            "Error searching for Average Hourly Earnings: Prod & Nonsupervisory, Durable Goods Manufacturing: 'NoneType' object has no attribute 'empty'\n",
            "Error searching for Average Hourly Earnings: Prod & Nonsupervisory, Nondurable Goods Manufacturing: 'NoneType' object has no attribute 'empty'\n",
            "Error searching for Average Hourly Earnings: Prod & Nonsupervisory, Mining & Logging: 'NoneType' object has no attribute 'empty'\n",
            "Error searching for Average Hourly Earnings: Prod & Nonsupervisory, Construction: 'NoneType' object has no attribute 'empty'\n",
            "Error searching for Average Hourly Earnings: Prodd & Nonsupervisory, Service-providing Industries: 'NoneType' object has no attribute 'empty'\n",
            "Error searching for Average Hourly Earnings: Prod & Nonsupervisory, : Trade, Transportation & Utilities: 'NoneType' object has no attribute 'empty'\n",
            "Error searching for Average Hourly Earnings: Prod & Nonsupervisory, : Wholesale Trade: 'NoneType' object has no attribute 'empty'\n",
            "Error searching for Average Hourly Earnings: Prod & Nonsupervisory, : Retail Trade: 'NoneType' object has no attribute 'empty'\n",
            "Error searching for Average Hourly Earnings: Prod & Nonsupervisory, : Transportation & Warehousing: 'NoneType' object has no attribute 'empty'\n",
            "Error searching for Average Hourly Earnings: Prod & Nonsupervisory, : Utilties: 'NoneType' object has no attribute 'empty'\n",
            "Error searching for Average Hourly Earnings: Prod & Nonsupervisory, : Information Services: 'NoneType' object has no attribute 'empty'\n",
            "Error searching for Average Hourly Earnings: Prod & Nonsupervisory, : Financial Activities: 'NoneType' object has no attribute 'empty'\n",
            "Error searching for Average Hourly Earnings: Prod & Nonsupervisory, : Professional & Business Services: 'NoneType' object has no attribute 'empty'\n",
            "Error searching for Average Hourly Earnings: Prod & Nonsupervisory, : Education & Health Services : 'NoneType' object has no attribute 'empty'\n",
            "Error searching for Average Hourly Earnings: Prod & Nonsupervisory, : Leisure & Hospitality : 'NoneType' object has no attribute 'empty'\n",
            "Error searching for Average Hourly Earnings: Prod & Nonsupervisory, : Other Services : 'NoneType' object has no attribute 'empty'\n",
            "Error searching for Civilian Employment: Nonagricultural: 'NoneType' object has no attribute 'empty'\n",
            "Error searching for Civilian Employment/Noninstitutional Population: 'NoneType' object has no attribute 'empty'\n",
            "Error searching for Civilian Employment 25-54/Noninstitutional Population 25-54: 'NoneType' object has no attribute 'empty'\n",
            "Error searching for Civilian Employment Men 25-54/Noninstitutional Population Men 25-54: 'NoneType' object has no attribute 'empty'\n",
            "Error searching for Civilian Employment Women 25-54/Noninstitutional Population Women 25-54: 'NoneType' object has no attribute 'empty'\n",
            "Error searching for Job Losers on Temporary Layoff/Civilian Labor Force: 'NoneType' object has no attribute 'empty'\n",
            "Error searching for Job Losers on Permanent Layoff/Civilian Labor Force: 'NoneType' object has no attribute 'empty'\n",
            "Error searching for Persons Employed Part-time for Economic Reasons/Civilian Labor Force: 'NoneType' object has no attribute 'empty'\n",
            "Error searching for Persons Employed Part-time for Economic Reasons: Slack Business Conditions/Civilian Labor Force: 'NoneType' object has no attribute 'empty'\n",
            "Error searching for Persons Employed Part-time for Economic Reasons: Could only Find Part-time Work/Civilian Labor Force: 'NoneType' object has no attribute 'empty'\n",
            "Error searching for U5 Unemployment Rate: 'NoneType' object has no attribute 'empty'\n",
            "Error searching for U4 Unemployment Rate: 'NoneType' object has no attribute 'empty'\n",
            "Error searching for U2 Unemployment Rate: 'NoneType' object has no attribute 'empty'\n",
            "Error searching for U1 Unemployment Rate: 'NoneType' object has no attribute 'empty'\n",
            "Error searching for Median Duration of Unemployment: 'NoneType' object has no attribute 'empty'\n",
            "Error searching for Index of Help-Wanted Advertising/Job Openings : 'NoneType' object has no attribute 'empty'\n",
            "Error searching for Ratio of Help-Wanted Advertising/Job Openings to Number of Unemployed: 'NoneType' object has no attribute 'empty'\n",
            "Error searching for Population and Payroll-Concept Adjusted CPS Employment: 'NoneType' object has no attribute 'empty'\n",
            "Error searching for Challenger, Gray, and Christmas: Announced Job Cuts: 'NoneType' object has no attribute 'empty'\n",
            "Error searching for Real Personal Income Less Transfer Payments: 'NoneType' object has no attribute 'empty'\n",
            "Error searching for Real Consumer Discretionary Spending: 'NoneType' object has no attribute 'empty'\n",
            "Error searching for Real Consumer Nondiscretionary Spending: 'NoneType' object has no attribute 'empty'\n",
            "Error searching for nan: quote_from_bytes() expected bytes\n",
            "Error searching for nan: quote_from_bytes() expected bytes\n",
            "Error searching for Retail Sales: Northeast: 'NoneType' object has no attribute 'empty'\n",
            "Error searching for nan: quote_from_bytes() expected bytes\n",
            "Error searching for Retail & Food Service Sales ex Auto, Gas Stations & Building Materials: 'NoneType' object has no attribute 'empty'\n",
            "Error searching for Retail Sales ex Auto, Gas Stations & Building Materials: 'NoneType' object has no attribute 'empty'\n",
            "Error searching for Retail & Food Service Sales ex Auto & Building Materials: 'NoneType' object has no attribute 'empty'\n",
            "Error searching for Retail & Food Service Sales ex Auto & Gas Stations: 'NoneType' object has no attribute 'empty'\n",
            "Error searching for Retail & Food Service Sales ex Motor Vehicle and Parts Dealers: 'NoneType' object has no attribute 'empty'\n",
            "Error searching for Retail Sales: Residential Equipment: 'NoneType' object has no attribute 'empty'\n",
            "Error searching for PCE Control Group: 'NoneType' object has no attribute 'empty'\n",
            "Error searching for Johnson Redbook Retail Sales Index: Same-Store Sales: 'NoneType' object has no attribute 'empty'\n",
            "Error searching for Autos: Real Average Expenditure per Car: 'NoneType' object has no attribute 'empty'\n",
            "Error searching for Autos: Real Average Expenditure per Domestic Car: 'NoneType' object has no attribute 'empty'\n",
            "Error searching for Autos: Real Average Expenditure per Foreign Car: 'NoneType' object has no attribute 'empty'\n",
            "Error searching for Autos: Real Average Consumer Expenditure per Car: 'NoneType' object has no attribute 'empty'\n",
            "Error searching for Lightweight Vehicle Sales: 'NoneType' object has no attribute 'empty'\n",
            "Error searching for Lightweight Truck Sales: 'NoneType' object has no attribute 'empty'\n",
            "Error searching for Domestic Lightweight Truck Sales: 'NoneType' object has no attribute 'empty'\n",
            "Error searching for Imported Lightweight Truck Sales: 'NoneType' object has no attribute 'empty'\n",
            "Error searching for Lightweight Retail Auto Sales: 'NoneType' object has no attribute 'empty'\n",
            "Error searching for Domestic Lightweight Auto Sales: 'NoneType' object has no attribute 'empty'\n",
            "Error searching for Imported Lightweight Auto Sales: 'NoneType' object has no attribute 'empty'\n",
            "Error searching for UofM Survey of Consumers: Consumer Sentiment: 'NoneType' object has no attribute 'empty'\n",
            "Error searching for UofM Survey of Consumers: Current Conditions: 'NoneType' object has no attribute 'empty'\n",
            "Error searching for UofM Survey of Consumers: Consumer Expecations: 'NoneType' object has no attribute 'empty'\n",
            "Error searching for Conference Board: Consumer Confidence: 'NoneType' object has no attribute 'empty'\n",
            "Error searching for Conference Board: Present Situation: 'NoneType' object has no attribute 'empty'\n",
            "Error searching for Conference Board: Jobs Plentiful minus Jobs Hard to Get: 'NoneType' object has no attribute 'empty'\n",
            "Error searching for Capacity Utilization: Utilties: 'NoneType' object has no attribute 'empty'\n",
            "Error searching for Capactity Utilization: Computers/Communication Equipment/Semiconductors: 'NoneType' object has no attribute 'empty'\n",
            "Error searching for BEA Auto Production Estimate: 'NoneType' object has no attribute 'empty'\n",
            "Error searching for New Orders: Consumer Goods & Materials: 'NoneType' object has no attribute 'empty'\n",
            "Error searching for New Orders: Nondefense Capital Goods ex Aircraft: 'NoneType' object has no attribute 'empty'\n",
            "Error searching for Unfilled Orders: Nondefense Capital Goods ex Aircraft: 'NoneType' object has no attribute 'empty'\n",
            "Error searching for Shipments: Nondefense Capital Goods ex Aircraft: 'NoneType' object has no attribute 'empty'\n",
            "Error searching for Net Shipments Nondefense Aircraft: 'NoneType' object has no attribute 'empty'\n",
            "Error searching for Business Share of Lightweight Truck Sales: 'NoneType' object has no attribute 'empty'\n",
            "Error searching for Autos: Real Average Business Expenditure per Car: 'NoneType' object has no attribute 'empty'\n",
            "Error searching for ISM Manufacturing: Composite: 'NoneType' object has no attribute 'empty'\n",
            "Error searching for ISM Manufacturing: Employment: 'NoneType' object has no attribute 'empty'\n",
            "Error searching for ISM Manufacturing: Inventories: 'NoneType' object has no attribute 'empty'\n",
            "Error searching for ISM Manufacturing: New Orders: 'NoneType' object has no attribute 'empty'\n",
            "Error searching for ISM Manufacturing: Production: 'NoneType' object has no attribute 'empty'\n",
            "Error searching for ISM Manufacturing: Supplier Deliveries: 'NoneType' object has no attribute 'empty'\n",
            "Error searching for ISM Manufacturing: New Export Orders: 'NoneType' object has no attribute 'empty'\n",
            "Error searching for ISM Manufacturing; Imports: 'NoneType' object has no attribute 'empty'\n",
            "Error searching for ISM Nonmanufacturing: Composite: 'NoneType' object has no attribute 'empty'\n",
            "Error searching for ISM Nonmanufacturing: Business Activity: 'NoneType' object has no attribute 'empty'\n",
            "Error searching for ISM Nonmanufacturing: New Orders: 'NoneType' object has no attribute 'empty'\n",
            "Error searching for ISM Nonmanufacturing: Employment: 'NoneType' object has no attribute 'empty'\n",
            "Error searching for ISM Nonmanufacturing: Supplier Deliveries: 'NoneType' object has no attribute 'empty'\n",
            "Error searching for ISM Nonmanufacturing: Inventories: 'NoneType' object has no attribute 'empty'\n",
            "Error searching for ISM: Nonmanufacturing: Order Backlogs: 'NoneType' object has no attribute 'empty'\n",
            "Error searching for ISM Nonmanufacturing: Export Orders: 'NoneType' object has no attribute 'empty'\n",
            "Error searching for ISM Nonmanufacturing: Imports: 'NoneType' object has no attribute 'empty'\n",
            "Error searching for ISM Chicago: Composite: 'NoneType' object has no attribute 'empty'\n",
            "Error searching for ISM Milwaukee: Composite: 'NoneType' object has no attribute 'empty'\n",
            "Error searching for Mid-America Business Conditions Index: 'NoneType' object has no attribute 'empty'\n",
            "Error searching for Philly Fed Mfg. Business Outlook Survey: Current Activity: 'NoneType' object has no attribute 'empty'\n",
            "Error searching for Philly Fed Mfg. Business Outlook Survey: Future Activity: 'NoneType' object has no attribute 'empty'\n",
            "Error searching for Empire State Mfg: Business Conditions: Current: 'NoneType' object has no attribute 'empty'\n",
            "Error searching for Empire State Mfg: Business Conditions: Future: 'NoneType' object has no attribute 'empty'\n",
            "Error searching for Richmond Fed Manufacturing Survey: Current Conditions: 'NoneType' object has no attribute 'empty'\n",
            "Error searching for Kansas City Fed Mfg: Composite, vs. Last Month: 'NoneType' object has no attribute 'empty'\n",
            "Error searching for Kansas City Fed Mfg: Composite, Next 6 Months: 'NoneType' object has no attribute 'empty'\n",
            "Error searching for Texas Mfg Outlook Survey: General Business Activity, Current: 'NoneType' object has no attribute 'empty'\n",
            "Error searching for Texas Mfg Outlook Survey: General Business Activity, Future: 'NoneType' object has no attribute 'empty'\n",
            "Error searching for NFIB: Small Business Optimism Index: 'NoneType' object has no attribute 'empty'\n",
            "Error searching for NFIB: Plans to Increase Employment: 'NoneType' object has no attribute 'empty'\n",
            "Error searching for NFIB: Plans to Make Capital Outlays: 'NoneType' object has no attribute 'empty'\n",
            "Error searching for NFIB: Plans to Increase Inventories: 'NoneType' object has no attribute 'empty'\n",
            "Error searching for NFIB: Expect Economy to Improve: 'NoneType' object has no attribute 'empty'\n",
            "Error searching for NFIB: Expect Real Sales Higher: 'NoneType' object has no attribute 'empty'\n",
            "Error searching for NFIB: Current Inventory Too Low: 'NoneType' object has no attribute 'empty'\n",
            "Error searching for NFIB: Firms with Positions Not Able to Fill Right Now: 'NoneType' object has no attribute 'empty'\n",
            "Error searching for NFIB: Now is a Good Time To Expand: 'NoneType' object has no attribute 'empty'\n",
            "Error searching for NFIB: Higher Earnings this Quarter: 'NoneType' object has no attribute 'empty'\n",
            "Error searching for nan: quote_from_bytes() expected bytes\n",
            "Error searching for nan: quote_from_bytes() expected bytes\n",
            "Error searching for Construction Put in Place: Private Nonresidential: 'NoneType' object has no attribute 'empty'\n",
            "Error searching for Manufacturing Machinery & Equipment Sales plus Business Construction Spending: 'NoneType' object has no attribute 'empty'\n",
            "Error searching for Construction Put in Place: New Residential Single-Family: 'NoneType' object has no attribute 'empty'\n",
            "Error searching for Construction Put in Place: New Residential Multi-Family: 'NoneType' object has no attribute 'empty'\n",
            "Error searching for Construction Put in Place: Residential Improvements: 'NoneType' object has no attribute 'empty'\n",
            "Error searching for Real Aggregate Payrolls of Residential Remodelers: 'NoneType' object has no attribute 'empty'\n",
            "Error searching for New Single-Family Construction Home Values: 'NoneType' object has no attribute 'empty'\n",
            "Error searching for Mobile Home Shipments: 'NoneType' object has no attribute 'empty'\n",
            "Error searching for New Single-Family Home Sales Value: 'NoneType' object has no attribute 'empty'\n",
            "Error searching for Existing Single-Family Home Sales Value: 'NoneType' object has no attribute 'empty'\n",
            "Error searching for Pending Home Sales: Total: 'NoneType' object has no attribute 'empty'\n",
            "Error searching for Pending Home Sales: Northeast: 'NoneType' object has no attribute 'empty'\n",
            "Error searching for Pending Home Sales: Midwest: 'NoneType' object has no attribute 'empty'\n",
            "Error searching for Pending Home Sales: South: 'NoneType' object has no attribute 'empty'\n",
            "Error searching for Pending Home Sales: West: 'NoneType' object has no attribute 'empty'\n",
            "Error searching for Home Builders: Housing Market Index: 'NoneType' object has no attribute 'empty'\n",
            "Error searching for Home Builders: Single family sales: present: 'NoneType' object has no attribute 'empty'\n",
            "Error searching for Home Builders: Single family sales: next 6 months: 'NoneType' object has no attribute 'empty'\n",
            "Error searching for Home Builders: Traffice of prospective buyers: 'NoneType' object has no attribute 'empty'\n",
            "Error searching for Home Builders: Northeast: 'NoneType' object has no attribute 'empty'\n",
            "Error searching for Home Builders: Midwest: 'NoneType' object has no attribute 'empty'\n",
            "Error searching for Home Builders: South: 'NoneType' object has no attribute 'empty'\n",
            "Error searching for Home Builders: West: 'NoneType' object has no attribute 'empty'\n",
            "Error searching for nan: quote_from_bytes() expected bytes\n",
            "Error searching for I/S Ratio: Total Business: 'NoneType' object has no attribute 'empty'\n",
            "Error searching for I/S Ratio: Manufacturing: 'NoneType' object has no attribute 'empty'\n",
            "Error searching for I/S Ratio: Retail Trade : 'NoneType' object has no attribute 'empty'\n",
            "Error searching for I/S Ratio: Retail Trade ex. Motor Vehicle & Part Dealers: 'NoneType' object has no attribute 'empty'\n",
            "Error searching for I/S Ratio: Merchant Wholesale Trade: 'NoneType' object has no attribute 'empty'\n",
            "Error searching for I/S Ratio: Manufacturing Durable Goods: 'NoneType' object has no attribute 'empty'\n",
            "Error searching for I/S Ratio: Manufacturing: 'NoneType' object has no attribute 'empty'\n",
            "Error searching for I/S Ratio: Manufacturing Nondurable Goods: 'NoneType' object has no attribute 'empty'\n",
            "Error searching for I/S Ratio: Retail Trade: 'NoneType' object has no attribute 'empty'\n",
            "Error searching for I/S Ratio: Manufacturing & Trade: 'NoneType' object has no attribute 'empty'\n",
            "Error searching for I/S Ratio: Merchant Wholesale Durable Goods: 'NoneType' object has no attribute 'empty'\n",
            "Error searching for I/S Ratio: Merchant Wholesale Trade: 'NoneType' object has no attribute 'empty'\n",
            "Error searching for I/S Ratio: Merchant Wholesale Nondurable Goods: 'NoneType' object has no attribute 'empty'\n",
            "Error searching for Real Exports of Core Capital Goods: 'NoneType' object has no attribute 'empty'\n",
            "Error searching for Real Imports of Core Capital Goods: 'NoneType' object has no attribute 'empty'\n",
            "Error searching for Real Exports of Computers & Accessories: 'NoneType' object has no attribute 'empty'\n",
            "Error searching for Real Imports of Computers & Accessories: 'NoneType' object has no attribute 'empty'\n",
            "Error searching for Real Federal Outlays: Total: 'NoneType' object has no attribute 'empty'\n",
            "Error searching for Real Federal Outlays: Defense Spending: 'NoneType' object has no attribute 'empty'\n",
            "Error searching for Real Wage & Salary Disbursements: Government: 'NoneType' object has no attribute 'empty'\n",
            "Error searching for nan: quote_from_bytes() expected bytes\n",
            "Error searching for Exports Excluding Military Aid Shipments: 'NoneType' object has no attribute 'empty'\n",
            "Error searching for IP: Real Gross Value of Total Products: 'NoneType' object has no attribute 'empty'\n",
            "Error searching for IP: Real Gross Value of Final Products: 'NoneType' object has no attribute 'empty'\n",
            "Error searching for IP: Real Gross Value of Consumer Products: 'NoneType' object has no attribute 'empty'\n",
            "Error searching for IP: Real Gross Value of Consumer Durable Products: 'NoneType' object has no attribute 'empty'\n",
            "Error searching for IP: Real Gross Value of Automotive Products: 'NoneType' object has no attribute 'empty'\n",
            "Error searching for IP: Real Gross Value of Other Consumer Durable Goods: 'NoneType' object has no attribute 'empty'\n",
            "Error searching for IP: Real Gross Value of Consumer Nondurable Products: 'NoneType' object has no attribute 'empty'\n",
            "Error searching for IP: Real Gross Value of Equipment: 'NoneType' object has no attribute 'empty'\n",
            "Error searching for IP: Real Gross Value of Business Equipment: 'NoneType' object has no attribute 'empty'\n",
            "Error searching for IP: Real Gross Value of Defense & Space Equipment: 'NoneType' object has no attribute 'empty'\n",
            "Error searching for IP: Real Gross Value of Nonindustrial Supplies: 'NoneType' object has no attribute 'empty'\n",
            "Error searching for IP: Real Gross Value of Construction Supplies: 'NoneType' object has no attribute 'empty'\n",
            "Error searching for IP: Real Gross Value of Business Supplies: 'NoneType' object has no attribute 'empty'\n",
            "Error searching for IP: Real Gross Value of Commercial Energy Products: 'NoneType' object has no attribute 'empty'\n",
            "Error searching for Real Trade Balance in Goods, Customs Value: 'NoneType' object has no attribute 'empty'\n",
            "Error searching for Real Exports Capital Goods ex. Auto: 'NoneType' object has no attribute 'empty'\n",
            "Error searching for Real Exports Consumer Goods ex. Auto: 'NoneType' object has no attribute 'empty'\n",
            "Error searching for Real Imports Capital Goods ex. Auto: 'NoneType' object has no attribute 'empty'\n",
            "Error searching for Real Imports Consumer Goods ex. Auto: 'NoneType' object has no attribute 'empty'\n",
            "Error searching for Real Exports of Maintenance & Repair Services: 'NoneType' object has no attribute 'empty'\n",
            "Error searching for Real Exports of Insurance Services: 'NoneType' object has no attribute 'empty'\n",
            "Error searching for Real Exports of Telecommunications, Computer, & Information Services: 'NoneType' object has no attribute 'empty'\n",
            "Error searching for Real Imports of Maintenance & Repair Services: 'NoneType' object has no attribute 'empty'\n",
            "Error searching for Real Imports of Telecommunications, Computer, & Information Services: 'NoneType' object has no attribute 'empty'\n",
            "Error searching for Baker Hughes U.S. Active Rig Count: 'NoneType' object has no attribute 'empty'\n",
            "Error searching for Natural Gas Storage: US Lower 48: 'NoneType' object has no attribute 'empty'\n",
            "Error searching for Net Imports of Crude Oil & Petroleum Products: 'NoneType' object has no attribute 'empty'\n",
            "Error searching for nan: quote_from_bytes() expected bytes\n",
            "Error searching for Business New Light Vehicle Sales: 'NoneType' object has no attribute 'empty'\n",
            "Error searching for Raw Steel Rate of Capability Utilization: 'NoneType' object has no attribute 'empty'\n",
            "Error searching for US Railroad Traffic Originated: Intermodal plus Carloads: 'NoneType' object has no attribute 'empty'\n",
            "Error searching for Motor Vehicle and Jet Fuel Consumption: 'NoneType' object has no attribute 'empty'\n",
            "Error searching for Tourist Arrivals to the US from Overseas: 'NoneType' object has no attribute 'empty'\n",
            "New series data saved successfully.\n"
          ]
        }
      ],
      "source": [
        "import pandas as pd\n",
        "from fredapi import Fred\n",
        "\n",
        "\n",
        "fred = Fred(api_key='f7c33df54eac626aedc8608eb50e8a96')\n",
        "\n",
        "# Loading the data\n",
        "file_path = 'data_dictionary_toFRED.xlsx'\n",
        "data = pd.read_excel(file_path)\n",
        "\n",
        "# Creating a new DataFrame with the required columns\n",
        "new_data = pd.DataFrame(columns=[\"Series (from attached sheet)\", \"Series Name (from attached sheet)\", \"FRED Pnuemonic\", \"Level specification (from attached sheet)\"])\n",
        "\n",
        "# Populating the new DataFrame with the relevant columns from the original data\n",
        "new_data[\"Series (from attached sheet)\"] = data[\"Series\"]\n",
        "new_data[\"Series Name (from attached sheet)\"] = data[\"Description\"]\n",
        "new_data[\"Level specification (from attached sheet)\"] = data[\"Level Specification \"]\n",
        "\n",
        "# Function to search for series on FRED\n",
        "def get_fred_series_id(series_name):\n",
        "    try:\n",
        "        search_results = fred.search(series_name)\n",
        "        if not search_results.empty:\n",
        "            # Return the first result's id\n",
        "            return search_results.iloc[0]['id']\n",
        "    except Exception as e:\n",
        "        print(f\"Error searching for {series_name}: {e}\")\n",
        "    return None\n",
        "\n",
        "# Loop through each series and search for it on FRED\n",
        "for i, row in new_data.iterrows():\n",
        "    series_name = row[\"Series Name (from attached sheet)\"]\n",
        "    fred_id = get_fred_series_id(series_name)\n",
        "    new_data.at[i, \"FRED Pnuemonic\"] = fred_id\n",
        "\n",
        "\n",
        "new_data.to_excel('new_series_data.xlsx', index=False)\n",
        "\n",
        "print(\"New series data saved successfully.\")\n"
      ]
    },
    {
      "cell_type": "markdown",
      "source": [
        "FRED Data Series with Fedapi with Fuzzywuzzy Library"
      ],
      "metadata": {
        "id": "FGHAyOvB667j"
      }
    },
    {
      "cell_type": "code",
      "source": [
        "pip install fuzzywuzzy python-Levenshtein"
      ],
      "metadata": {
        "colab": {
          "base_uri": "https://localhost:8080/"
        },
        "id": "h19iR8TEONRU",
        "outputId": "8e89824d-5fc3-40c0-9806-4c0e305cec62"
      },
      "execution_count": null,
      "outputs": [
        {
          "output_type": "stream",
          "name": "stdout",
          "text": [
            "Collecting fuzzywuzzy\n",
            "  Downloading fuzzywuzzy-0.18.0-py2.py3-none-any.whl (18 kB)\n",
            "Collecting python-Levenshtein\n",
            "  Downloading python_Levenshtein-0.25.1-py3-none-any.whl (9.4 kB)\n",
            "Collecting Levenshtein==0.25.1 (from python-Levenshtein)\n",
            "  Downloading Levenshtein-0.25.1-cp310-cp310-manylinux_2_17_x86_64.manylinux2014_x86_64.whl (177 kB)\n",
            "\u001b[2K     \u001b[90m━━━━━━━━━━━━━━━━━━━━━━━━━━━━━━━━━━━━━━━━\u001b[0m \u001b[32m177.4/177.4 kB\u001b[0m \u001b[31m4.4 MB/s\u001b[0m eta \u001b[36m0:00:00\u001b[0m\n",
            "\u001b[?25hCollecting rapidfuzz<4.0.0,>=3.8.0 (from Levenshtein==0.25.1->python-Levenshtein)\n",
            "  Downloading rapidfuzz-3.9.3-cp310-cp310-manylinux_2_17_x86_64.manylinux2014_x86_64.whl (3.4 MB)\n",
            "\u001b[2K     \u001b[90m━━━━━━━━━━━━━━━━━━━━━━━━━━━━━━━━━━━━━━━━\u001b[0m \u001b[32m3.4/3.4 MB\u001b[0m \u001b[31m34.9 MB/s\u001b[0m eta \u001b[36m0:00:00\u001b[0m\n",
            "\u001b[?25hInstalling collected packages: fuzzywuzzy, rapidfuzz, Levenshtein, python-Levenshtein\n",
            "Successfully installed Levenshtein-0.25.1 fuzzywuzzy-0.18.0 python-Levenshtein-0.25.1 rapidfuzz-3.9.3\n"
          ]
        }
      ]
    },
    {
      "cell_type": "code",
      "source": [
        "import pandas as pd\n",
        "from fredapi import Fred\n",
        "from fuzzywuzzy import process, fuzz\n",
        "\n",
        "\n",
        "fred = Fred(api_key='f7c33df54eac626aedc8608eb50e8a96')\n",
        "\n",
        "\n",
        "file_path = 'data_dictionary_toFRED.xlsx'\n",
        "data = pd.read_excel(file_path)\n",
        "\n",
        "\n",
        "new_data = pd.DataFrame(columns=[\"Seriess\", \"Series Name\", \"FRED Pnuemonic\", \"Level specification\"])\n",
        "\n",
        "\n",
        "new_data[\"Seriess\"] = data[\"Series\"]\n",
        "new_data[\"Series Name\"] = data[\"Description\"]\n",
        "new_data[\"Level specification\"] = data[\"Level Specification \"]\n",
        "\n",
        "# Function to search for series on FRED and use fuzzy matching for close matches\n",
        "def get_fred_series_id(series_name):\n",
        "    try:\n",
        "        search_results = fred.search(series_name)\n",
        "        if search_results is not None and not search_results.empty:\n",
        "            best_match = process.extractOne(series_name, search_results['title'], scorer=fuzz.token_sort_ratio)\n",
        "            if best_match:\n",
        "                matched_title = best_match[0]\n",
        "                matched_id = search_results[search_results['title'] == matched_title]['id'].values[0]\n",
        "                return matched_id\n",
        "    except Exception as e:\n",
        "        print(f\"Error searching for {series_name}: {e}\")\n",
        "    return None\n",
        "\n",
        "\n",
        "for i, row in new_data.iterrows():\n",
        "    series_name = row[\"Series Name\"]\n",
        "    fred_id = get_fred_series_id(series_name)\n",
        "    new_data.at[i, \"FRED Pnuemonic\"] = fred_id\n",
        "\n",
        "\n",
        "new_data.to_excel('new_series_data.xlsx', index=False)\n",
        "\n",
        "print(\"New series data saved successfully.\")\n"
      ],
      "metadata": {
        "colab": {
          "base_uri": "https://localhost:8080/"
        },
        "id": "PrISJuEdYmTQ",
        "outputId": "48db1a82-dbd8-49e7-f610-fe5b09f2f1a8"
      },
      "execution_count": null,
      "outputs": [
        {
          "output_type": "stream",
          "name": "stdout",
          "text": [
            "Error searching for nan: quote_from_bytes() expected bytes\n",
            "Error searching for nan: quote_from_bytes() expected bytes\n",
            "Error searching for nan: quote_from_bytes() expected bytes\n",
            "Error searching for nan: quote_from_bytes() expected bytes\n",
            "Error searching for nan: quote_from_bytes() expected bytes\n",
            "Error searching for nan: quote_from_bytes() expected bytes\n",
            "Error searching for nan: quote_from_bytes() expected bytes\n",
            "Error searching for nan: quote_from_bytes() expected bytes\n",
            "New series data saved successfully.\n"
          ]
        }
      ]
    },
    {
      "cell_type": "markdown",
      "source": [
        "Improved code with exact matches"
      ],
      "metadata": {
        "id": "Pjb7sgu57XzW"
      }
    },
    {
      "cell_type": "code",
      "source": [
        "!pip install fuzzywuzzy\n"
      ],
      "metadata": {
        "colab": {
          "base_uri": "https://localhost:8080/"
        },
        "id": "moCi76Kw0p4a",
        "outputId": "527e2b19-5c9d-4c9e-ff00-003637828b39"
      },
      "execution_count": null,
      "outputs": [
        {
          "output_type": "stream",
          "name": "stdout",
          "text": [
            "Collecting fuzzywuzzy\n",
            "  Downloading fuzzywuzzy-0.18.0-py2.py3-none-any.whl (18 kB)\n",
            "Installing collected packages: fuzzywuzzy\n",
            "Successfully installed fuzzywuzzy-0.18.0\n"
          ]
        }
      ]
    },
    {
      "cell_type": "code",
      "source": [
        "import pandas as pd\n",
        "from fredapi import Fred\n",
        "from fuzzywuzzy import process, fuzz\n",
        "\n",
        "# Replace 'your_api_key_here' with your actual FRED API key\n",
        "fred = Fred(api_key='f7c33df54eac626aedc8608eb50e8a96')\n",
        "\n",
        "# Load the data\n",
        "file_path = 'data_dictionary_toFRED.xlsx'\n",
        "data = pd.read_excel(file_path)\n",
        "\n",
        "# Create a new DataFrame with the required columns\n",
        "new_data = pd.DataFrame(columns=[\"Seriess\", \"Series Name\", \"FRED Pneumonic\", \"Level Specification\"])\n",
        "\n",
        "# Populate the new DataFrame with the relevant columns from the original data\n",
        "new_data[\"Seriess\"] = data[\"Series\"]\n",
        "new_data[\"Series Name\"] = data[\"Description\"]\n",
        "new_data[\"Level Specification\"] = data[\"Level Specification \"]\n",
        "\n",
        "# Function to search for series on FRED using both descriptions and titles for fuzzy matching\n",
        "def get_fred_series_id(series_description, series_title):\n",
        "    try:\n",
        "        search_results = fred.search(series_description)\n",
        "        # Check if search_results is None before proceeding\n",
        "        if search_results is None or search_results.empty:\n",
        "            return None  # Return None if no results found or if the result is None\n",
        "\n",
        "        # If search_results is not None and not empty, proceed with fuzzy matching\n",
        "        combined_search_results = search_results['title'].tolist() + [series_title]\n",
        "        best_match = process.extractOne(series_description, combined_search_results, scorer=fuzz.token_sort_ratio)\n",
        "        if best_match and best_match[1] >= 50:  # Lowering the threshold to 50 for broader matches\n",
        "            matched_title = best_match[0]\n",
        "            matched_id = search_results[search_results['title'] == matched_title]['id'].values[0] if matched_title in search_results['title'].tolist() else None\n",
        "            return matched_id\n",
        "    except Exception as e:\n",
        "        print(f\"Error searching for {series_description}: {e}\")\n",
        "    return None\n",
        "\n",
        "# Loop through each series and search for it on FRED\n",
        "for i, row in new_data.iterrows():\n",
        "    description = row[\"Series Name\"]\n",
        "    title = row[\"Seriess\"]  # Make sure to use the column name correctly\n",
        "    fred_id = get_fred_series_id(description, title)\n",
        "    new_data.at[i, \"FRED Pneumonic\"] = fred_id  # Correct spelling to match column header\n",
        "\n",
        "# Save the new DataFrame to an Excel file\n",
        "new_data.to_excel('improved_fred_data.xlsx', index=False)\n",
        "\n",
        "print(\"Improved series data saved successfully.\")\n"
      ],
      "metadata": {
        "id": "9XyJuekqZVXn",
        "colab": {
          "base_uri": "https://localhost:8080/"
        },
        "outputId": "f0c07458-64d7-4113-a745-a51f8cb81642"
      },
      "execution_count": null,
      "outputs": [
        {
          "output_type": "stream",
          "name": "stdout",
          "text": [
            "Error searching for nan: quote_from_bytes() expected bytes\n",
            "Error searching for nan: quote_from_bytes() expected bytes\n",
            "Error searching for nan: quote_from_bytes() expected bytes\n",
            "Error searching for nan: quote_from_bytes() expected bytes\n",
            "Error searching for nan: quote_from_bytes() expected bytes\n",
            "Error searching for Inventories: Manufacturing: Too Many Requests.  Exceeded Rate Limit\n",
            "Error searching for Inventories: Manufacturing Nondurable Goods: Too Many Requests.  Exceeded Rate Limit\n",
            "Error searching for Inventories: Retail Trade: Too Many Requests.  Exceeded Rate Limit\n",
            "Error searching for nan: quote_from_bytes() expected bytes\n",
            "Error searching for Inventories: Manufacturing & Trade: Too Many Requests.  Exceeded Rate Limit\n",
            "Error searching for Inventories: Merchant Wholesale Durable Goods: Too Many Requests.  Exceeded Rate Limit\n",
            "Error searching for Inventories: Merchant Wholesale Trade: Too Many Requests.  Exceeded Rate Limit\n",
            "Error searching for Inventories: Merchant Wholesale Nondurable Goods: Too Many Requests.  Exceeded Rate Limit\n",
            "Error searching for I/S Ratio: Total Business: Too Many Requests.  Exceeded Rate Limit\n",
            "Error searching for I/S Ratio: Manufacturing: Too Many Requests.  Exceeded Rate Limit\n",
            "Error searching for I/S Ratio: Retail Trade : Too Many Requests.  Exceeded Rate Limit\n",
            "Error searching for I/S Ratio: Retail Trade ex. Motor Vehicle & Part Dealers: Too Many Requests.  Exceeded Rate Limit\n",
            "Error searching for I/S Ratio: Merchant Wholesale Trade: Too Many Requests.  Exceeded Rate Limit\n",
            "Error searching for I/S Ratio: Manufacturing Durable Goods: Too Many Requests.  Exceeded Rate Limit\n",
            "Error searching for I/S Ratio: Manufacturing: Too Many Requests.  Exceeded Rate Limit\n",
            "Error searching for I/S Ratio: Manufacturing Nondurable Goods: Too Many Requests.  Exceeded Rate Limit\n",
            "Error searching for I/S Ratio: Retail Trade: Too Many Requests.  Exceeded Rate Limit\n",
            "Error searching for I/S Ratio: Manufacturing & Trade: Too Many Requests.  Exceeded Rate Limit\n",
            "Error searching for I/S Ratio: Merchant Wholesale Durable Goods: Too Many Requests.  Exceeded Rate Limit\n",
            "Error searching for I/S Ratio: Merchant Wholesale Trade: Too Many Requests.  Exceeded Rate Limit\n",
            "Error searching for I/S Ratio: Merchant Wholesale Nondurable Goods: Too Many Requests.  Exceeded Rate Limit\n",
            "Error searching for Sales: Manufacturing Durable Goods: Too Many Requests.  Exceeded Rate Limit\n",
            "Error searching for Sales: Manufacturing: Too Many Requests.  Exceeded Rate Limit\n",
            "Error searching for Sales: Manufacturing Nondurable Goods: Too Many Requests.  Exceeded Rate Limit\n",
            "Error searching for Sales: Retail Trade: Too Many Requests.  Exceeded Rate Limit\n",
            "Error searching for Sales: Manufacturing & Trade: Too Many Requests.  Exceeded Rate Limit\n",
            "Error searching for Sales: Merchant Wholesale Durable Goods: Too Many Requests.  Exceeded Rate Limit\n",
            "Error searching for Sales: Merchant Wholesale Trade: Too Many Requests.  Exceeded Rate Limit\n",
            "Error searching for Sales: Merchant Wholesale Nondurable Goods: Too Many Requests.  Exceeded Rate Limit\n",
            "Error searching for nan: quote_from_bytes() expected bytes\n",
            "Error searching for nan: quote_from_bytes() expected bytes\n",
            "Improved series data saved successfully.\n"
          ]
        }
      ]
    },
    {
      "cell_type": "markdown",
      "source": [
        "Matlab code"
      ],
      "metadata": {
        "id": "zz_HnYbl7cGh"
      }
    },
    {
      "cell_type": "code",
      "source": [
        "import pandas as pd\n",
        "import pandas_datareader.data as web\n",
        "from datetime import datetime\n",
        "\n",
        "# Define data series and other particulars\n",
        "start_date = datetime(1975, 3, 31)\n",
        "series_names = [\n",
        "    'GS10',     # Treasury notes, 10-year\n",
        "    'TB3MS',    # T-Bill Rate, 3-month yields\n",
        "    'AAA',      # AAA Corp Bond Yield\n",
        "    'BAA',      # BAA Corp Bond Yield\n",
        "    'FEDFUNDS', # Fed Funds Rate\n",
        "    'GDPC1',    # Real GDP\n",
        "    'PCECC96',  # Real Personal Consumption Expenditures\n",
        "    'PNFIC1',   # Real non-residential fixed investment\n",
        "    'PRFIC1',   # Real residential fixed investment\n",
        "    'SLCEC1',   # Real state and local government consumption/gross investment\n",
        "    'CBIC1',    # Real change in inventories\n",
        "    'EXPGSC1',  # Real exports of goods and services\n",
        "    'IMPGSC1',  # Real imports of goods and services\n",
        "    'CP',       # Corporate profits\n",
        "    'INDPRO',   # Industrial production\n",
        "    'HOUST',    # Housing starts\n",
        "    'USSTHPI',  # FHFA U.S. total house price index\n",
        "    'UNRATE',   # Unemployment rate\n",
        "    'PAYEMS',   # Total payroll employment\n",
        "    'GDPCTPI',  # GDP price index\n",
        "    'CPIAUCSL', # Consumer price index\n",
        "    'CPILFESL', # Core consumer price index\n",
        "    'PCECTPI',  # PCE price index\n",
        "    'PCEPILFE', # Core PCE price index\n",
        "    'GDP'       # Nominal GDP\n",
        "]\n",
        "\n",
        "# Pre-allocate datatable\n",
        "data_table = pd.DataFrame()\n",
        "\n",
        "# Loop through each series and pull from FRED\n",
        "for series in series_names:\n",
        "    data = web.DataReader(series, 'fred', start_date)\n",
        "    data = data.resample('Q').mean()  # Convert to quarterly frequency by taking mean\n",
        "    data.columns = [series]          # Rename the column to the series name\n",
        "    if data_table.empty:\n",
        "        data_table = data\n",
        "    else:\n",
        "        data_table = data_table.join(data, how='outer')\n",
        "\n",
        "# Output raw data to .csv file for archival purposes\n",
        "data_table.to_csv('raw_data.csv')\n"
      ],
      "metadata": {
        "id": "1Vu0WrdY0ZPM"
      },
      "execution_count": null,
      "outputs": []
    },
    {
      "cell_type": "code",
      "source": [],
      "metadata": {
        "id": "lbWOLqTW_FUz"
      },
      "execution_count": null,
      "outputs": []
    }
  ]
}