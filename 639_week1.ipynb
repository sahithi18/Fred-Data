{
  "nbformat": 4,
  "nbformat_minor": 0,
  "metadata": {
    "colab": {
      "provenance": [],
      "authorship_tag": "ABX9TyPcazu5g5dd2OS/4Wm08Ih6",
      "include_colab_link": true
    },
    "kernelspec": {
      "name": "python3",
      "display_name": "Python 3"
    },
    "language_info": {
      "name": "python"
    }
  },
  "cells": [
    {
      "cell_type": "markdown",
      "metadata": {
        "id": "view-in-github",
        "colab_type": "text"
      },
      "source": [
        "<a href=\"https://colab.research.google.com/github/sahithi18/Fred-Data/blob/main/639_week1.ipynb\" target=\"_parent\"><img src=\"https://colab.research.google.com/assets/colab-badge.svg\" alt=\"Open In Colab\"/></a>"
      ]
    },
    {
      "cell_type": "code",
      "execution_count": 2,
      "metadata": {
        "colab": {
          "base_uri": "https://localhost:8080/"
        },
        "id": "JFvilYb71nDg",
        "outputId": "927bfbf2-1cbd-43c7-fa64-821e16406840"
      },
      "outputs": [
        {
          "output_type": "stream",
          "name": "stdout",
          "text": [
            "ILS-Z 639\n"
          ]
        }
      ],
      "source": [
        "print('ILS-Z 639')"
      ]
    },
    {
      "cell_type": "code",
      "source": [
        "with open('test.txt','r') as fin:\n",
        "  for line in fin:\n",
        "    print(line)"
      ],
      "metadata": {
        "colab": {
          "base_uri": "https://localhost:8080/"
        },
        "id": "UNjWYqOo1ySP",
        "outputId": "a386bc7d-f11d-4a19-9048-8b73e4eec663"
      },
      "execution_count": 5,
      "outputs": [
        {
          "output_type": "stream",
          "name": "stdout",
          "text": [
            "anscombe.json,\n",
            "\n",
            "SMM class\n",
            "\n"
          ]
        }
      ]
    },
    {
      "cell_type": "code",
      "source": [
        "with open('/content/sample_data/README.md','r') as fin:\n",
        "  for line in fin:\n",
        "    print(line)"
      ],
      "metadata": {
        "colab": {
          "base_uri": "https://localhost:8080/"
        },
        "id": "qeKEwJUz2eE-",
        "outputId": "9853a8ef-3e5a-4f14-91a7-0810a32d4a2c"
      },
      "execution_count": 4,
      "outputs": [
        {
          "output_type": "stream",
          "name": "stdout",
          "text": [
            "This directory includes a few sample datasets to get you started.\n",
            "\n",
            "\n",
            "\n",
            "*   `california_housing_data*.csv` is California housing data from the 1990 US\n",
            "\n",
            "    Census; more information is available at:\n",
            "\n",
            "    https://developers.google.com/machine-learning/crash-course/california-housing-data-description\n",
            "\n",
            "\n",
            "\n",
            "*   `mnist_*.csv` is a small sample of the\n",
            "\n",
            "    [MNIST database](https://en.wikipedia.org/wiki/MNIST_database), which is\n",
            "\n",
            "    described at: http://yann.lecun.com/exdb/mnist/\n",
            "\n",
            "\n",
            "\n",
            "*   `anscombe.json` contains a copy of\n",
            "\n",
            "    [Anscombe's quartet](https://en.wikipedia.org/wiki/Anscombe%27s_quartet); it\n",
            "\n",
            "    was originally described in\n",
            "\n",
            "\n",
            "\n",
            "    Anscombe, F. J. (1973). 'Graphs in Statistical Analysis'. American\n",
            "\n",
            "    Statistician. 27 (1): 17-21. JSTOR 2682899.\n",
            "\n",
            "\n",
            "\n",
            "    and our copy was prepared by the\n",
            "\n",
            "    [vega_datasets library](https://github.com/altair-viz/vega_datasets/blob/4f67bdaad10f45e3549984e17e1b3088c731503d/vega_datasets/_data/anscombe.json).\n",
            "\n"
          ]
        }
      ]
    },
    {
      "cell_type": "code",
      "source": [
        "import json\n",
        "with open('/content/sample_data/anscombe.json','r') as fin:\n",
        "  data=json.load(fin)\n",
        "  print(type(data))\n",
        "\n",
        "  for a in data:\n",
        "    print(a)"
      ],
      "metadata": {
        "colab": {
          "base_uri": "https://localhost:8080/"
        },
        "id": "P41J-jf12321",
        "outputId": "8686ab89-fe61-46a6-ee48-f3e554bdba53"
      },
      "execution_count": 6,
      "outputs": [
        {
          "output_type": "stream",
          "name": "stdout",
          "text": [
            "<class 'list'>\n",
            "{'Series': 'I', 'X': 10.0, 'Y': 8.04}\n",
            "{'Series': 'I', 'X': 8.0, 'Y': 6.95}\n",
            "{'Series': 'I', 'X': 13.0, 'Y': 7.58}\n",
            "{'Series': 'I', 'X': 9.0, 'Y': 8.81}\n",
            "{'Series': 'I', 'X': 11.0, 'Y': 8.33}\n",
            "{'Series': 'I', 'X': 14.0, 'Y': 9.96}\n",
            "{'Series': 'I', 'X': 6.0, 'Y': 7.24}\n",
            "{'Series': 'I', 'X': 4.0, 'Y': 4.26}\n",
            "{'Series': 'I', 'X': 12.0, 'Y': 10.84}\n",
            "{'Series': 'I', 'X': 7.0, 'Y': 4.81}\n",
            "{'Series': 'I', 'X': 5.0, 'Y': 5.68}\n",
            "{'Series': 'II', 'X': 10.0, 'Y': 9.14}\n",
            "{'Series': 'II', 'X': 8.0, 'Y': 8.14}\n",
            "{'Series': 'II', 'X': 13.0, 'Y': 8.74}\n",
            "{'Series': 'II', 'X': 9.0, 'Y': 8.77}\n",
            "{'Series': 'II', 'X': 11.0, 'Y': 9.26}\n",
            "{'Series': 'II', 'X': 14.0, 'Y': 8.1}\n",
            "{'Series': 'II', 'X': 6.0, 'Y': 6.13}\n",
            "{'Series': 'II', 'X': 4.0, 'Y': 3.1}\n",
            "{'Series': 'II', 'X': 12.0, 'Y': 9.13}\n",
            "{'Series': 'II', 'X': 7.0, 'Y': 7.26}\n",
            "{'Series': 'II', 'X': 5.0, 'Y': 4.74}\n",
            "{'Series': 'III', 'X': 10.0, 'Y': 7.46}\n",
            "{'Series': 'III', 'X': 8.0, 'Y': 6.77}\n",
            "{'Series': 'III', 'X': 13.0, 'Y': 12.74}\n",
            "{'Series': 'III', 'X': 9.0, 'Y': 7.11}\n",
            "{'Series': 'III', 'X': 11.0, 'Y': 7.81}\n",
            "{'Series': 'III', 'X': 14.0, 'Y': 8.84}\n",
            "{'Series': 'III', 'X': 6.0, 'Y': 6.08}\n",
            "{'Series': 'III', 'X': 4.0, 'Y': 5.39}\n",
            "{'Series': 'III', 'X': 12.0, 'Y': 8.15}\n",
            "{'Series': 'III', 'X': 7.0, 'Y': 6.42}\n",
            "{'Series': 'III', 'X': 5.0, 'Y': 5.73}\n",
            "{'Series': 'IV', 'X': 8.0, 'Y': 6.58}\n",
            "{'Series': 'IV', 'X': 8.0, 'Y': 5.76}\n",
            "{'Series': 'IV', 'X': 8.0, 'Y': 7.71}\n",
            "{'Series': 'IV', 'X': 8.0, 'Y': 8.84}\n",
            "{'Series': 'IV', 'X': 8.0, 'Y': 8.47}\n",
            "{'Series': 'IV', 'X': 8.0, 'Y': 7.04}\n",
            "{'Series': 'IV', 'X': 8.0, 'Y': 5.25}\n",
            "{'Series': 'IV', 'X': 19.0, 'Y': 12.5}\n",
            "{'Series': 'IV', 'X': 8.0, 'Y': 5.56}\n",
            "{'Series': 'IV', 'X': 8.0, 'Y': 7.91}\n",
            "{'Series': 'IV', 'X': 8.0, 'Y': 6.89}\n"
          ]
        }
      ]
    },
    {
      "cell_type": "code",
      "source": [],
      "metadata": {
        "id": "1b96atO84GoM"
      },
      "execution_count": null,
      "outputs": []
    }
  ]
}